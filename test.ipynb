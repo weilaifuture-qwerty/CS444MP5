{
 "cells": [
  {
   "cell_type": "code",
   "execution_count": 2,
   "metadata": {},
   "outputs": [],
   "source": [
    "%load_ext autoreload\n",
    "%autoreload 2\n",
    "\n",
    "from networks import UNet\n",
    "import torch "
   ]
  },
  {
   "cell_type": "code",
   "execution_count": null,
   "metadata": {},
   "outputs": [
    {
     "name": "stdout",
     "output_type": "stream",
     "text": [
      "tensor([[0.1147, 0.1189, 0.1220,  ..., 0.1174, 0.1197, 0.1267],\n",
      "        [0.1147, 0.1189, 0.1220,  ..., 0.1174, 0.1197, 0.1267],\n",
      "        [0.1147, 0.1189, 0.1220,  ..., 0.1174, 0.1197, 0.1267],\n",
      "        ...,\n",
      "        [0.1147, 0.1189, 0.1220,  ..., 0.1174, 0.1197, 0.1267],\n",
      "        [0.1147, 0.1189, 0.1220,  ..., 0.1174, 0.1197, 0.1267],\n",
      "        [0.1147, 0.1189, 0.1220,  ..., 0.1174, 0.1197, 0.1267]],\n",
      "       grad_fn=<ViewBackward0>)\n"
     ]
    }
   ],
   "source": [
    "model = UNet()\n",
    "x = torch.ones((128, 1024))\n",
    "print(model(x).shape)"
   ]
  }
 ],
 "metadata": {
  "kernelspec": {
   "display_name": "mp5",
   "language": "python",
   "name": "python3"
  },
  "language_info": {
   "codemirror_mode": {
    "name": "ipython",
    "version": 3
   },
   "file_extension": ".py",
   "mimetype": "text/x-python",
   "name": "python",
   "nbconvert_exporter": "python",
   "pygments_lexer": "ipython3",
   "version": "3.9.20"
  }
 },
 "nbformat": 4,
 "nbformat_minor": 2
}
